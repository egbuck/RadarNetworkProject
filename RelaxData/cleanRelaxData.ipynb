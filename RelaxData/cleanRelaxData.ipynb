{
 "cells": [
  {
   "cell_type": "code",
   "execution_count": 1,
   "metadata": {},
   "outputs": [],
   "source": [
    "import re\n",
    "import numpy as np\n",
    "import pandas as pd"
   ]
  },
  {
   "cell_type": "code",
   "execution_count": 18,
   "metadata": {},
   "outputs": [
    {
     "name": "stdout",
     "output_type": "stream",
     "text": [
      "16423\n",
      "'0 0 0 0 0 0'\n",
      "16425\n",
      "'\\n'\n",
      "16427\n",
      "'0 0 0 0 0 0 0'\n",
      "16428\n",
      "'0 0 0 0 0 0 0'\n",
      "16429\n",
      "'0 0 0 0 0 0 0'\n",
      "16430\n",
      "'0 0 0 0 0 0 0'\n",
      "16431\n",
      "'0 0 0 0 0 0 0'\n",
      "16432\n",
      "'0 0 0 0 0 0 0'\n",
      "16433\n",
      "'0 0 0 0 0 0 0'\n",
      "16434\n",
      "'0 0 0 0 0 0 0'\n"
     ]
    }
   ],
   "source": [
    "#import os\n",
    "#os.getcwd()\n",
    "# testing\n",
    "filePath = 'ZRelaxTest.txt'\n",
    "with open(filePath) as fp:\n",
    "    for count, line in enumerate(fp):\n",
    "        if count > 16422 and count < 16435:\n",
    "            if line == '\\n':\n",
    "                print(count)\n",
    "                print(repr(line))\n",
    "            elif len(line) > 10:    # don't include ';\\n' lines or 'Z := \\n' lines\n",
    "                line = re.sub(' +', ' ', line)   # get rid of multiple spaces\n",
    "                line = line.strip()             # remove leading and trailing whitespace and trailing \\n\n",
    "                result = ' '.join(re.findall(r' [0-1] ', line)) + line[-1]       # want ' 0' or ' 1'\n",
    "                result = result.strip()      # get rid of leading / trailing whitespace\n",
    "                result = re.sub(' +', ' ', result)   # get rid of multiple spaces\n",
    "                print(count)\n",
    "                print(repr(result))\n",
    "                #result = re.sub(r'', '', line)"
   ]
  },
  {
   "cell_type": "code",
   "execution_count": 20,
   "metadata": {},
   "outputs": [],
   "source": [
    "# Cleaning Z test case\n",
    "filePath = 'ZRelaxTest.txt'\n",
    "cleaned = open('ZRelaxTestCleaned.txt', 'w')\n",
    "with open(filePath) as fp:\n",
    "    for count, line in enumerate(fp):\n",
    "        if line == '\\n':\n",
    "            cleaned.write(line)\n",
    "        elif len(line) > 10:    # don't include ';\\n' lines or 'Z := \\n' lines\n",
    "            line = re.sub(' +', ' ', line)   # get rid of multiple spaces\n",
    "            line = line.strip()             # remove leading and trailing whitespace and trailing \\n\n",
    "            result = ' '.join(re.findall(r' [0-1] ', line)) + line[-1]       # want ' 0 ' or ' 1 '\n",
    "            result = result.strip()      # get rid of leading / trailing whitespace\n",
    "            result = re.sub(' +', ' ', result)   # get rid of multiple spaces\n",
    "            cleaned.write(result + ' ')\n",
    "            #result = re.sub(r'', '', line)\n",
    "cleaned.close()"
   ]
  },
  {
   "cell_type": "code",
   "execution_count": 21,
   "metadata": {},
   "outputs": [],
   "source": [
    "# now for real\n",
    "filePath = 'ZRelax.txt'\n",
    "cleaned = open('ZRelaxCleaned.txt', 'w')\n",
    "with open(filePath) as fp:\n",
    "    for count, line in enumerate(fp):\n",
    "        if line == '\\n':\n",
    "            cleaned.write(line)\n",
    "        elif len(line) > 10:    # don't include ';\\n' lines or 'Z := \\n' lines\n",
    "            line = re.sub(' +', ' ', line)   # get rid of multiple spaces\n",
    "            line = line.strip()             # remove leading and trailing whitespace and trailing \\n\n",
    "            result = ' '.join(re.findall(r' [0-1] ', line)) + line[-1]       # want ' 0' or ' 1'\n",
    "            result = result.strip()      # get rid of leading / trailing whitespace\n",
    "            result = re.sub(' +', ' ', result)   # get rid of multiple spaces\n",
    "            cleaned.write(result + ' ')\n",
    "            #result = re.sub(r'', '', line)\n",
    "cleaned.close()"
   ]
  },
  {
   "cell_type": "code",
   "execution_count": 22,
   "metadata": {},
   "outputs": [],
   "source": [
    "# Cleaning X\n",
    "filePath = 'XRelax.txt'\n",
    "cleaned = open('XRelaxCleaned.txt', 'w')\n",
    "with open(filePath) as fp:\n",
    "    for count, line in enumerate(fp):\n",
    "        if line == '\\n':\n",
    "            cleaned.write(line)\n",
    "        elif len(line) > 10:    # don't include ';\\n' lines or 'Z := \\n' lines\n",
    "            line = re.sub(' +', ' ', line)   # get rid of multiple spaces\n",
    "            line = line.strip()             # remove leading and trailing whitespace and trailing \\n\n",
    "            result = ' '.join(re.findall(r' [0-1] ', line)) + line[-1]       # want ' 0' or ' 1'\n",
    "            result = result.strip()      # get rid of leading / trailing whitespace\n",
    "            result = re.sub(' +', ' ', result)   # get rid of multiple spaces\n",
    "            cleaned.write(result + ' ')\n",
    "            #result = re.sub(r'', '', line)\n",
    "cleaned.close()"
   ]
  },
  {
   "cell_type": "code",
   "execution_count": null,
   "metadata": {},
   "outputs": [],
   "source": []
  }
 ],
 "metadata": {
  "kernelspec": {
   "display_name": "Python 3",
   "language": "python",
   "name": "python3"
  },
  "language_info": {
   "codemirror_mode": {
    "name": "ipython",
    "version": 3
   },
   "file_extension": ".py",
   "mimetype": "text/x-python",
   "name": "python",
   "nbconvert_exporter": "python",
   "pygments_lexer": "ipython3",
   "version": "3.6.8"
  }
 },
 "nbformat": 4,
 "nbformat_minor": 2
}
