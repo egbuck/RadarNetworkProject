{
 "cells": [
  {
   "cell_type": "code",
   "execution_count": 1,
   "metadata": {},
   "outputs": [],
   "source": [
    "import numpy as np\n",
    "import seaborn as sns\n",
    "import matplotlib.pyplot as plt"
   ]
  },
  {
   "cell_type": "code",
   "execution_count": 2,
   "metadata": {},
   "outputs": [],
   "source": [
    "# 27 mile width\n",
    "# 34 mile length\n",
    "xvals = np.arange(0, 26)\n",
    "yvals = np.arange(0, 22)\n",
    "\n",
    "xx, yy = np.meshgrid(xvals, yvals)"
   ]
  },
  {
   "cell_type": "code",
   "execution_count": 3,
   "metadata": {},
   "outputs": [],
   "source": [
    "xx = xx * 27\n",
    "yy = yy * 34"
   ]
  },
  {
   "cell_type": "code",
   "execution_count": 4,
   "metadata": {},
   "outputs": [],
   "source": [
    "points = np.array([xx, yy])\n",
    "points = np.reshape(np.reshape(points, 22*26*2, order = 'F'), [22*26, 2])"
   ]
  },
  {
   "cell_type": "code",
   "execution_count": 5,
   "metadata": {},
   "outputs": [
    {
     "data": {
      "image/png": "[encoded data removed]",
      "text/plain": [
       "<Figure size 432x288 with 1 Axes>"
      ]
     },
     "metadata": {
      "needs_background": "light"
     },
     "output_type": "display_data"
    }
   ],
   "source": [
    "# delete points that are not in states.  y values multiplied by 34, x by 27.\n",
    "\n",
    "delPoints = list(range(2)) + list(range(6, 7)) + list(range(10,22)) # first column delPoints\n",
    "delPoints = delPoints + [x+22 for x in list(range(2))] + [x+44 for x in list(range(2))] # 2nd / 3rd column delPoints\n",
    "delPoints = delPoints + [x*22 for x in list(range(3, 7))]    # 4th through 7th column delPoints\n",
    "\n",
    "delPoints = delPoints + [x*22 + 21 for x in range(8, 26)]    # highest row past tip of Utah\n",
    "delPoints = delPoints + [x*22 + 20 for x in range(8, 26)]    # 2nd highest row past tip of Utah\n",
    "\n",
    "delPoints = delPoints + [x*22 for x in range(13, 26)]   # rest of bottom row\n",
    "delPoints = delPoints + [24*22 + x for x in range(1, 11)]  # second to last col\n",
    "delPoints = delPoints + [25*22 + x for x in range(1, 11)]  # last col\n",
    "\n",
    "# print(delPoints)  # print row indexes of points you are deleting\n",
    "\n",
    "# plot points you are deleting\n",
    "ax = sns.scatterplot(points[delPoints,0] / 27, y=points[delPoints,1] / 34)  # create plot, scaled back down.\n",
    "ax.yaxis.set_minor_locator(plt.MultipleLocator(1))  # set minor y tics in increments of 1.\n",
    "ax.xaxis.set_minor_locator(plt.MultipleLocator(1))  # set minor x tics in increments of 1.\n",
    "ax   # display plot\n",
    "\n",
    "# deleting points in delPoints.\n",
    "points = np.delete(points, delPoints, axis=0)"
   ]
  },
  {
   "cell_type": "code",
   "execution_count": 6,
   "metadata": {},
   "outputs": [
    {
     "data": {
      "text/plain": [
       "<matplotlib.axes._subplots.AxesSubplot at 0x21f9a2ac898>"
      ]
     },
     "execution_count": 6,
     "metadata": {},
     "output_type": "execute_result"
    },
    {
     "data": {
      "image/png": "[encoded data removed]",
      "text/plain": [
       "<Figure size 432x288 with 1 Axes>"
      ]
     },
     "metadata": {
      "needs_background": "light"
     },
     "output_type": "display_data"
    }
   ],
   "source": [
    "ax = sns.scatterplot(x=points[:,0], y=points[:,1])\n",
    "ax"
   ]
  },
  {
   "cell_type": "code",
   "execution_count": 31,
   "metadata": {},
   "outputs": [
    {
     "ename": "NameError",
     "evalue": "name 'color_palette' is not defined",
     "output_type": "error",
     "traceback": [
      "\u001b[1;31m---------------------------------------------------------------------------\u001b[0m",
      "\u001b[1;31mNameError\u001b[0m                                 Traceback (most recent call last)",
      "\u001b[1;32m<ipython-input-31-ac18664852b7>\u001b[0m in \u001b[0;36m<module>\u001b[1;34m\u001b[0m\n\u001b[0;32m      7\u001b[0m \u001b[1;33m\u001b[0m\u001b[0m\n\u001b[0;32m      8\u001b[0m \u001b[0mcolorChoice\u001b[0m \u001b[1;33m=\u001b[0m \u001b[1;33m[\u001b[0m\u001b[1;34m'#9b59b6'\u001b[0m\u001b[1;33m,\u001b[0m \u001b[1;34m'#2ecc71'\u001b[0m\u001b[1;33m]\u001b[0m\u001b[1;33m\u001b[0m\u001b[1;33m\u001b[0m\u001b[0m\n\u001b[1;32m----> 9\u001b[1;33m \u001b[0max\u001b[0m \u001b[1;33m=\u001b[0m \u001b[0msns\u001b[0m\u001b[1;33m.\u001b[0m\u001b[0mscatterplot\u001b[0m\u001b[1;33m(\u001b[0m\u001b[0mx\u001b[0m\u001b[1;33m=\u001b[0m\u001b[1;34m'X'\u001b[0m\u001b[1;33m,\u001b[0m \u001b[0my\u001b[0m\u001b[1;33m=\u001b[0m\u001b[1;34m'Y'\u001b[0m\u001b[1;33m,\u001b[0m \u001b[0mhue\u001b[0m\u001b[1;33m=\u001b[0m\u001b[1;34m'Sol'\u001b[0m\u001b[1;33m,\u001b[0m \u001b[0mpalette\u001b[0m \u001b[1;33m=\u001b[0m \u001b[0mcolor_palette\u001b[0m\u001b[1;33m(\u001b[0m\u001b[0mcolorChoice\u001b[0m\u001b[1;33m)\u001b[0m\u001b[1;33m,\u001b[0m \u001b[0mdata\u001b[0m \u001b[1;33m=\u001b[0m \u001b[0mpointsData\u001b[0m\u001b[1;33m)\u001b[0m\u001b[1;33m\u001b[0m\u001b[1;33m\u001b[0m\u001b[0m\n\u001b[0m\u001b[0;32m     10\u001b[0m \u001b[0max\u001b[0m\u001b[1;33m\u001b[0m\u001b[1;33m\u001b[0m\u001b[0m\n",
      "\u001b[1;31mNameError\u001b[0m: name 'color_palette' is not defined"
     ]
    }
   ],
   "source": [
    "XSol200 = [92, 127, 141, 384, 331, 377]  # REMEMBER TO MINUS ONE FROM AMPL SOL\n",
    "#plt.show(sns.scatterplot(x = points[XSol200, 0], y = points[XSol200, 1]))\n",
    "\n",
    "pointsData = pd.DataFrame(points, columns = ['X','Y'])\n",
    "pointsData['Sol'] = 'No'\n",
    "pointsData.iloc[XSol200, 2] = 'Yes'\n",
    "\n",
    "ax = sns.scatterplot(x='X', y='Y', hue='Sol', data = pointsData)\n",
    "ax"
   ]
  },
  {
   "cell_type": "code",
   "execution_count": 7,
   "metadata": {},
   "outputs": [
    {
     "data": {
      "text/plain": [
       "(480, 2)"
      ]
     },
     "execution_count": 7,
     "metadata": {},
     "output_type": "execute_result"
    }
   ],
   "source": [
    "points.shape"
   ]
  },
  {
   "cell_type": "code",
   "execution_count": 8,
   "metadata": {},
   "outputs": [
    {
     "name": "stdout",
     "output_type": "stream",
     "text": [
      "[540 544]\n",
      "[189 340]\n",
      "405.97660031090464\n",
      "[540 544]\n",
      "[189 374]\n",
      "390.0012820491748\n",
      "[540 544]\n",
      "[189 408]\n",
      "376.42661967507024\n",
      "[540 544]\n",
      "[189 442]\n",
      "365.5201772816379\n"
     ]
    },
    {
     "data": {
      "text/plain": [
       "array([[  0.        ,  34.        ,  68.        , 102.        ,\n",
       "        170.        , 204.        , 238.        ,  27.        ,\n",
       "         43.41658669,  73.1641989 ],\n",
       "       [ 34.        ,   0.        ,  34.        ,  68.        ,\n",
       "        136.        , 170.        , 204.        ,  43.41658669,\n",
       "         27.        ,  43.41658669],\n",
       "       [ 68.        ,  34.        ,   0.        ,  34.        ,\n",
       "        102.        , 136.        , 170.        ,  73.1641989 ,\n",
       "         43.41658669,  27.        ],\n",
       "       [102.        ,  68.        ,  34.        ,   0.        ,\n",
       "         68.        , 102.        , 136.        , 105.51303237,\n",
       "         73.1641989 ,  43.41658669],\n",
       "       [170.        , 136.        , 102.        ,  68.        ,\n",
       "          0.        ,  34.        ,  68.        , 172.13076425,\n",
       "        138.65424624, 105.51303237],\n",
       "       [204.        , 170.        , 136.        , 102.        ,\n",
       "         34.        ,   0.        ,  34.        , 205.77900768,\n",
       "        172.13076425, 138.65424624],\n",
       "       [238.        , 204.        , 170.        , 136.        ,\n",
       "         68.        ,  34.        ,   0.        , 239.52661648,\n",
       "        205.77900768, 172.13076425],\n",
       "       [ 27.        ,  43.41658669,  73.1641989 , 105.51303237,\n",
       "        172.13076425, 205.77900768, 239.52661648,   0.        ,\n",
       "         34.        ,  68.        ],\n",
       "       [ 43.41658669,  27.        ,  43.41658669,  73.1641989 ,\n",
       "        138.65424624, 172.13076425, 205.77900768,  34.        ,\n",
       "          0.        ,  34.        ],\n",
       "       [ 73.1641989 ,  43.41658669,  27.        ,  43.41658669,\n",
       "        105.51303237, 138.65424624, 172.13076425,  68.        ,\n",
       "         34.        ,   0.        ]])"
      ]
     },
     "execution_count": 8,
     "metadata": {},
     "output_type": "execute_result"
    }
   ],
   "source": [
    "spd = np.zeros((480, 480))\n",
    "count1 = -1\n",
    "count2 = 0\n",
    "for p1 in points:\n",
    "    count1 += 1\n",
    "    count2 = 0\n",
    "    for p2 in points:\n",
    "        dist = np.linalg.norm(p1 - p2)\n",
    "        if (count1 > 400) and (count1 < 402) and (count2 > 140) and (count2 < 145):\n",
    "            print(p1)\n",
    "            print(p2)\n",
    "            print(dist)\n",
    "        spd[count1, count2] = dist\n",
    "        count2 += 1\n",
    "spd[0:10, 0:10]"
   ]
  },
  {
   "cell_type": "code",
   "execution_count": 9,
   "metadata": {},
   "outputs": [
    {
     "data": {
      "text/plain": [
       "'\\ncount1 = -1\\ncount2 = -1\\n\\nspd = np.zeros((26*22, 26*22))\\nfor rowIndex1 in range(22):\\n    for colIndex1 in range(26):\\n        p1 = np.array([xx[rowIndex1][colIndex1], yy[rowIndex1][colIndex1]])\\n        count1 += 1\\n        count2 = -1\\n        for rowIndex2 in range(22):\\n            for colIndex2 in range(26):\\n                p2 = np.array([xx[rowIndex2][colIndex2], yy[rowIndex2][colIndex2]])\\n                count2 += 1\\n                dist = np.linalg.norm(p1 - p2)\\n                spd[count1, count2] = dist\\n'"
      ]
     },
     "execution_count": 9,
     "metadata": {},
     "output_type": "execute_result"
    }
   ],
   "source": [
    "'''\n",
    "count1 = -1\n",
    "count2 = -1\n",
    "\n",
    "spd = np.zeros((26*22, 26*22))\n",
    "for rowIndex1 in range(22):\n",
    "    for colIndex1 in range(26):\n",
    "        p1 = np.array([xx[rowIndex1][colIndex1], yy[rowIndex1][colIndex1]])\n",
    "        count1 += 1\n",
    "        count2 = -1\n",
    "        for rowIndex2 in range(22):\n",
    "            for colIndex2 in range(26):\n",
    "                p2 = np.array([xx[rowIndex2][colIndex2], yy[rowIndex2][colIndex2]])\n",
    "                count2 += 1\n",
    "                dist = np.linalg.norm(p1 - p2)\n",
    "                spd[count1, count2] = dist\n",
    "'''       "
   ]
  },
  {
   "cell_type": "code",
   "execution_count": 10,
   "metadata": {},
   "outputs": [
    {
     "data": {
      "text/plain": [
       "(480, 480)"
      ]
     },
     "execution_count": 10,
     "metadata": {},
     "output_type": "execute_result"
    }
   ],
   "source": [
    "spd.shape"
   ]
  },
  {
   "cell_type": "code",
   "execution_count": 11,
   "metadata": {},
   "outputs": [
    {
     "data": {
      "text/plain": [
       "array([[  0.,  34.,  68., 102., 136.],\n",
       "       [ 34.,   0.,  34.,  68., 102.],\n",
       "       [ 68.,  34.,   0.,  34.,  68.],\n",
       "       [102.,  68.,  34.,   0.,  34.],\n",
       "       [136., 102.,  68.,  34.,   0.]])"
      ]
     },
     "execution_count": 11,
     "metadata": {},
     "output_type": "execute_result"
    }
   ],
   "source": [
    "spd[475:,475:]"
   ]
  },
  {
   "cell_type": "code",
   "execution_count": 12,
   "metadata": {},
   "outputs": [],
   "source": [
    "#np.savetxt('spd.txt', spd, fmt = '%.4f', delimiter = ' ')"
   ]
  },
  {
   "cell_type": "code",
   "execution_count": 13,
   "metadata": {},
   "outputs": [
    {
     "data": {
      "text/plain": [
       "array([[  0.,  34.,  68., 102., 170.],\n",
       "       [ 34.,   0.,  34.,  68., 136.],\n",
       "       [ 68.,  34.,   0.,  34., 102.],\n",
       "       [102.,  68.,  34.,   0.,  68.],\n",
       "       [170., 136., 102.,  68.,   0.]])"
      ]
     },
     "execution_count": 13,
     "metadata": {},
     "output_type": "execute_result"
    }
   ],
   "source": [
    "spd[:5,:5]"
   ]
  },
  {
   "cell_type": "code",
   "execution_count": 14,
   "metadata": {},
   "outputs": [],
   "source": [
    "# making F matrix\n",
    "numNodes = spd.shape[0]\n",
    "rowIndex= -1\n",
    "\n",
    "F = np.zeros(( int(.5 * (numNodes * (numNodes - 1))), numNodes ))\n",
    "\n",
    "for u in range(numNodes-1):\n",
    "    for v in range(u+1, numNodes):\n",
    "        rowIndex += 1\n",
    "        for j in range(numNodes):\n",
    "            if spd[u, j] != spd[v, j]:\n",
    "                F[rowIndex, j] = 1\n",
    "            else:\n",
    "                F[rowIndex, j] = 0"
   ]
  },
  {
   "cell_type": "code",
   "execution_count": 15,
   "metadata": {},
   "outputs": [
    {
     "data": {
      "text/plain": [
       "(114960, 480)"
      ]
     },
     "execution_count": 15,
     "metadata": {},
     "output_type": "execute_result"
    }
   ],
   "source": [
    "F.shape"
   ]
  },
  {
   "cell_type": "code",
   "execution_count": 16,
   "metadata": {},
   "outputs": [
    {
     "data": {
      "text/plain": [
       "array([[1., 1., 1., 1., 1., 1., 1., 1., 1., 1.],\n",
       "       [1., 0., 1., 1., 1., 1., 1., 1., 0., 1.],\n",
       "       [1., 1., 1., 1., 1., 1., 1., 1., 1., 1.],\n",
       "       [1., 1., 1., 1., 1., 1., 1., 1., 1., 1.],\n",
       "       [1., 1., 1., 0., 1., 1., 1., 1., 1., 1.],\n",
       "       [1., 1., 1., 1., 1., 1., 1., 1., 1., 1.],\n",
       "       [1., 1., 1., 1., 1., 1., 1., 1., 1., 1.],\n",
       "       [1., 1., 1., 1., 1., 1., 1., 1., 1., 1.],\n",
       "       [1., 1., 1., 1., 1., 1., 1., 1., 1., 1.],\n",
       "       [1., 1., 1., 1., 1., 1., 1., 1., 1., 1.]])"
      ]
     },
     "execution_count": 16,
     "metadata": {},
     "output_type": "execute_result"
    }
   ],
   "source": [
    "F[:10,:10]"
   ]
  },
  {
   "cell_type": "code",
   "execution_count": 17,
   "metadata": {},
   "outputs": [
    {
     "data": {
      "text/plain": [
       "array([[1., 1., 1., 1., 1., 1., 1., 1., 1., 1., 1., 1., 1., 1., 1.],\n",
       "       [1., 0., 1., 1., 1., 1., 1., 1., 1., 1., 0., 1., 1., 1., 1.],\n",
       "       [1., 1., 1., 1., 1., 1., 1., 1., 1., 1., 1., 1., 1., 1., 1.],\n",
       "       [1., 1., 1., 1., 1., 1., 1., 1., 0., 1., 1., 1., 1., 1., 1.],\n",
       "       [1., 1., 1., 1., 1., 1., 1., 1., 1., 1., 1., 1., 1., 1., 1.],\n",
       "       [0., 1., 1., 1., 1., 1., 1., 1., 1., 0., 1., 1., 1., 1., 1.],\n",
       "       [1., 1., 1., 1., 1., 1., 1., 1., 1., 1., 1., 1., 1., 1., 1.],\n",
       "       [1., 0., 1., 1., 1., 1., 1., 1., 1., 1., 0., 1., 1., 1., 1.],\n",
       "       [1., 1., 1., 1., 1., 1., 1., 1., 1., 1., 1., 1., 1., 1., 1.],\n",
       "       [1., 1., 1., 1., 1., 1., 1., 1., 1., 1., 1., 1., 1., 1., 1.],\n",
       "       [0., 1., 1., 1., 1., 1., 1., 1., 1., 0., 1., 1., 1., 1., 1.],\n",
       "       [1., 1., 1., 1., 1., 1., 1., 1., 1., 1., 1., 1., 1., 1., 1.],\n",
       "       [1., 0., 1., 1., 1., 1., 1., 1., 1., 1., 0., 1., 1., 1., 1.],\n",
       "       [1., 1., 1., 1., 1., 1., 1., 1., 1., 1., 1., 1., 1., 1., 1.],\n",
       "       [1., 1., 0., 1., 1., 1., 1., 1., 1., 1., 1., 0., 1., 1., 1.],\n",
       "       [1., 1., 1., 1., 1., 1., 1., 1., 1., 1., 1., 1., 1., 1., 1.],\n",
       "       [1., 0., 1., 1., 1., 1., 1., 1., 1., 1., 0., 1., 1., 1., 1.],\n",
       "       [1., 1., 1., 1., 1., 1., 1., 1., 1., 1., 1., 1., 1., 1., 1.],\n",
       "       [1., 1., 0., 1., 1., 1., 1., 1., 1., 1., 1., 0., 1., 1., 1.],\n",
       "       [1., 1., 1., 1., 1., 1., 1., 1., 1., 1., 1., 1., 1., 1., 1.],\n",
       "       [1., 1., 1., 1., 1., 1., 1., 1., 1., 1., 1., 1., 1., 1., 1.],\n",
       "       [1., 1., 0., 1., 1., 1., 1., 1., 1., 1., 1., 0., 1., 1., 1.],\n",
       "       [1., 1., 1., 1., 1., 1., 1., 1., 1., 1., 1., 1., 1., 1., 1.],\n",
       "       [1., 1., 1., 0., 1., 1., 1., 1., 1., 1., 1., 1., 0., 1., 1.],\n",
       "       [1., 1., 1., 1., 1., 1., 1., 1., 1., 1., 1., 1., 1., 1., 1.],\n",
       "       [1., 1., 1., 0., 1., 1., 1., 1., 1., 1., 1., 1., 0., 1., 1.],\n",
       "       [1., 1., 1., 1., 1., 1., 1., 1., 1., 1., 1., 1., 1., 1., 1.],\n",
       "       [1., 1., 1., 1., 1., 1., 1., 1., 1., 1., 1., 1., 1., 1., 1.],\n",
       "       [1., 1., 1., 1., 0., 1., 1., 1., 1., 1., 1., 1., 1., 0., 1.],\n",
       "       [1., 1., 1., 1., 1., 1., 1., 1., 1., 1., 1., 1., 1., 1., 1.]])"
      ]
     },
     "execution_count": 17,
     "metadata": {},
     "output_type": "execute_result"
    }
   ],
   "source": [
    "F[114930:,465:]"
   ]
  },
  {
   "cell_type": "code",
   "execution_count": 18,
   "metadata": {},
   "outputs": [],
   "source": [
    "#np.savetxt('F.txt', F, fmt = '%d', delimiter = ' ')"
   ]
  },
  {
   "cell_type": "code",
   "execution_count": 19,
   "metadata": {},
   "outputs": [],
   "source": [
    "# adding row/ col indexes to F matrix\n",
    "numNodes = spd.shape[0]\n",
    "rowIndex= -1\n",
    "\n",
    "F = np.zeros(( int(.5 * (numNodes * (numNodes - 1))), numNodes ))\n",
    "row_names = []\n",
    "col_names = range(1, numNodes + 1)\n",
    "\n",
    "for u in range(numNodes-1):\n",
    "    for v in range(u+1, numNodes):\n",
    "        row_names = row_names + [(u+1, v+1)]\n",
    "        rowIndex += 1\n",
    "        for j in range(numNodes):\n",
    "            if spd[u, j] != spd[v, j]:\n",
    "                F[rowIndex, j] = 1\n",
    "            else:\n",
    "                F[rowIndex, j] = 0"
   ]
  },
  {
   "cell_type": "code",
   "execution_count": 20,
   "metadata": {},
   "outputs": [
    {
     "data": {
      "text/plain": [
       "[(1, 2),\n",
       " (1, 3),\n",
       " (1, 4),\n",
       " (1, 5),\n",
       " (1, 6),\n",
       " (1, 7),\n",
       " (1, 8),\n",
       " (1, 9),\n",
       " (1, 10),\n",
       " (1, 11)]"
      ]
     },
     "execution_count": 20,
     "metadata": {},
     "output_type": "execute_result"
    }
   ],
   "source": [
    "row_names[0:10]"
   ]
  },
  {
   "cell_type": "code",
   "execution_count": 21,
   "metadata": {},
   "outputs": [],
   "source": [
    "import pandas as pd\n",
    "FData = pd.DataFrame(F, columns = col_names, index = row_names)\n",
    "#FData.to_csv('FDataFrame.txt', sep = ' ')"
   ]
  },
  {
   "cell_type": "code",
   "execution_count": 26,
   "metadata": {},
   "outputs": [],
   "source": [
    "row_names = range(1, F.shape[0]+1)\n",
    "FData = pd.DataFrame(F, columns = col_names, index = row_names)\n",
    "FData.to_csv('FDataFrameNums.txt', sep = ' ')"
   ]
  },
  {
   "cell_type": "code",
   "execution_count": 24,
   "metadata": {},
   "outputs": [
    {
     "data": {
      "text/plain": [
       "(114960, 480)"
      ]
     },
     "execution_count": 24,
     "metadata": {},
     "output_type": "execute_result"
    }
   ],
   "source": [
    "F.shape"
   ]
  },
  {
   "cell_type": "code",
   "execution_count": 25,
   "metadata": {},
   "outputs": [
    {
     "data": {
      "text/plain": [
       "(114960, 480)"
      ]
     },
     "execution_count": 25,
     "metadata": {},
     "output_type": "execute_result"
    }
   ],
   "source": [
    "FData.shape"
   ]
  },
  {
   "cell_type": "code",
   "execution_count": null,
   "metadata": {},
   "outputs": [],
   "source": []
  }
 ],
 "metadata": {
  "kernelspec": {
   "display_name": "Python 3",
   "language": "python",
   "name": "python3"
  },
  "language_info": {
   "codemirror_mode": {
    "name": "ipython",
    "version": 3
   },
   "file_extension": ".py",
   "mimetype": "text/x-python",
   "name": "python",
   "nbconvert_exporter": "python",
   "pygments_lexer": "ipython3",
   "version": "3.6.8"
  }
 },
 "nbformat": 4,
 "nbformat_minor": 2
}
